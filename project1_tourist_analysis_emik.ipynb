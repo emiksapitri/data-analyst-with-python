{
 "cells": [
  {
   "cell_type": "markdown",
   "metadata": {},
   "source": [
    "Analisis Kedatangan Wisatawan \\\n",
    "(Ni Kadek Emik Sapitri)"
   ]
  },
  {
   "cell_type": "markdown",
   "metadata": {},
   "source": [
    "# Data"
   ]
  },
  {
   "cell_type": "code",
   "execution_count": 2,
   "metadata": {},
   "outputs": [
    {
     "data": {
      "text/html": [
       "<div>\n",
       "<style scoped>\n",
       "    .dataframe tbody tr th:only-of-type {\n",
       "        vertical-align: middle;\n",
       "    }\n",
       "\n",
       "    .dataframe tbody tr th {\n",
       "        vertical-align: top;\n",
       "    }\n",
       "\n",
       "    .dataframe thead th {\n",
       "        text-align: right;\n",
       "    }\n",
       "</style>\n",
       "<table border=\"1\" class=\"dataframe\">\n",
       "  <thead>\n",
       "    <tr style=\"text-align: right;\">\n",
       "      <th></th>\n",
       "      <th>year</th>\n",
       "      <th>area</th>\n",
       "      <th>country</th>\n",
       "      <th>January</th>\n",
       "      <th>February</th>\n",
       "      <th>March</th>\n",
       "      <th>April</th>\n",
       "      <th>May</th>\n",
       "      <th>June</th>\n",
       "      <th>July</th>\n",
       "      <th>August</th>\n",
       "      <th>September</th>\n",
       "      <th>October</th>\n",
       "      <th>November</th>\n",
       "      <th>December</th>\n",
       "    </tr>\n",
       "  </thead>\n",
       "  <tbody>\n",
       "    <tr>\n",
       "      <th>0</th>\n",
       "      <td>2019</td>\n",
       "      <td>ASIA PACIFIC</td>\n",
       "      <td>AUSTRALIAN</td>\n",
       "      <td>95536</td>\n",
       "      <td>67474</td>\n",
       "      <td>83002</td>\n",
       "      <td>90265.0</td>\n",
       "      <td>98625</td>\n",
       "      <td>110815</td>\n",
       "      <td>123293</td>\n",
       "      <td>118556</td>\n",
       "      <td>124416</td>\n",
       "      <td>119382</td>\n",
       "      <td>105312</td>\n",
       "      <td>110711</td>\n",
       "    </tr>\n",
       "    <tr>\n",
       "      <th>1</th>\n",
       "      <td>2019</td>\n",
       "      <td>ASIA PACIFIC</td>\n",
       "      <td>BHUTAN</td>\n",
       "      <td>60</td>\n",
       "      <td>30</td>\n",
       "      <td>47</td>\n",
       "      <td>38.0</td>\n",
       "      <td>31</td>\n",
       "      <td>31</td>\n",
       "      <td>46</td>\n",
       "      <td>67</td>\n",
       "      <td>43</td>\n",
       "      <td>32</td>\n",
       "      <td>56</td>\n",
       "      <td>60</td>\n",
       "    </tr>\n",
       "    <tr>\n",
       "      <th>2</th>\n",
       "      <td>2019</td>\n",
       "      <td>ASIA PACIFIC</td>\n",
       "      <td>BANGLADESH</td>\n",
       "      <td>2262</td>\n",
       "      <td>2094</td>\n",
       "      <td>2489</td>\n",
       "      <td>2264.0</td>\n",
       "      <td>1938</td>\n",
       "      <td>4265</td>\n",
       "      <td>2656</td>\n",
       "      <td>2307</td>\n",
       "      <td>2035</td>\n",
       "      <td>2371</td>\n",
       "      <td>2164</td>\n",
       "      <td>2671</td>\n",
       "    </tr>\n",
       "    <tr>\n",
       "      <th>3</th>\n",
       "      <td>2019</td>\n",
       "      <td>ASIA PACIFIC</td>\n",
       "      <td>FIJI</td>\n",
       "      <td>91</td>\n",
       "      <td>73</td>\n",
       "      <td>72</td>\n",
       "      <td>77.0</td>\n",
       "      <td>42</td>\n",
       "      <td>62</td>\n",
       "      <td>2656</td>\n",
       "      <td>80</td>\n",
       "      <td>68</td>\n",
       "      <td>78</td>\n",
       "      <td>89</td>\n",
       "      <td>189</td>\n",
       "    </tr>\n",
       "    <tr>\n",
       "      <th>4</th>\n",
       "      <td>2019</td>\n",
       "      <td>ASIA PACIFIC</td>\n",
       "      <td>HONGKONG</td>\n",
       "      <td>1313</td>\n",
       "      <td>1367</td>\n",
       "      <td>764</td>\n",
       "      <td>6.0</td>\n",
       "      <td>1</td>\n",
       "      <td>5</td>\n",
       "      <td>2</td>\n",
       "      <td>1</td>\n",
       "      <td>0</td>\n",
       "      <td>11</td>\n",
       "      <td>0</td>\n",
       "      <td>45</td>\n",
       "    </tr>\n",
       "  </tbody>\n",
       "</table>\n",
       "</div>"
      ],
      "text/plain": [
       "   year           area     country  January  February  March    April    May  \\\n",
       "0  2019  ASIA PACIFIC   AUSTRALIAN    95536     67474  83002  90265.0  98625   \n",
       "1  2019  ASIA PACIFIC       BHUTAN       60        30     47     38.0     31   \n",
       "2  2019  ASIA PACIFIC   BANGLADESH     2262      2094   2489   2264.0   1938   \n",
       "3  2019  ASIA PACIFIC         FIJI       91        73     72     77.0     42   \n",
       "4  2019  ASIA PACIFIC     HONGKONG     1313      1367    764      6.0      1   \n",
       "\n",
       "     June    July  August  September  October  November  December  \n",
       "0  110815  123293  118556     124416   119382    105312    110711  \n",
       "1      31      46      67         43       32        56        60  \n",
       "2    4265    2656    2307       2035     2371      2164      2671  \n",
       "3      62    2656      80         68       78        89       189  \n",
       "4       5       2       1          0       11         0        45  "
      ]
     },
     "execution_count": 2,
     "metadata": {},
     "output_type": "execute_result"
    }
   ],
   "source": [
    "import numpy as np\n",
    "import pandas as pd\n",
    "\n",
    "data_balitourist = pd.read_csv('bali_tourist.csv')\n",
    "data_balitourist.head()"
   ]
  },
  {
   "cell_type": "code",
   "execution_count": 3,
   "metadata": {},
   "outputs": [
    {
     "name": "stdout",
     "output_type": "stream",
     "text": [
      "<class 'pandas.core.frame.DataFrame'>\n",
      "RangeIndex: 362 entries, 0 to 361\n",
      "Data columns (total 15 columns):\n",
      " #   Column     Non-Null Count  Dtype  \n",
      "---  ------     --------------  -----  \n",
      " 0   year       362 non-null    int64  \n",
      " 1   area       362 non-null    object \n",
      " 2   country    362 non-null    object \n",
      " 3   January    362 non-null    int64  \n",
      " 4   February   362 non-null    int64  \n",
      " 5   March      362 non-null    int64  \n",
      " 6   April      360 non-null    float64\n",
      " 7   May        362 non-null    int64  \n",
      " 8   June       362 non-null    int64  \n",
      " 9   July       362 non-null    int64  \n",
      " 10  August     362 non-null    int64  \n",
      " 11  September  362 non-null    int64  \n",
      " 12  October    362 non-null    int64  \n",
      " 13  November   362 non-null    int64  \n",
      " 14  December   362 non-null    int64  \n",
      "dtypes: float64(1), int64(12), object(2)\n",
      "memory usage: 42.6+ KB\n"
     ]
    }
   ],
   "source": [
    "data_balitourist.info()"
   ]
  },
  {
   "cell_type": "markdown",
   "metadata": {},
   "source": [
    "# Berapa total turis yang datang ke Bali pada tahun 2018 dan 2019?"
   ]
  },
  {
   "cell_type": "code",
   "execution_count": 4,
   "metadata": {},
   "outputs": [
    {
     "data": {
      "text/html": [
       "<div>\n",
       "<style scoped>\n",
       "    .dataframe tbody tr th:only-of-type {\n",
       "        vertical-align: middle;\n",
       "    }\n",
       "\n",
       "    .dataframe tbody tr th {\n",
       "        vertical-align: top;\n",
       "    }\n",
       "\n",
       "    .dataframe thead th {\n",
       "        text-align: right;\n",
       "    }\n",
       "</style>\n",
       "<table border=\"1\" class=\"dataframe\">\n",
       "  <thead>\n",
       "    <tr style=\"text-align: right;\">\n",
       "      <th></th>\n",
       "      <th>January</th>\n",
       "      <th>February</th>\n",
       "      <th>March</th>\n",
       "      <th>April</th>\n",
       "      <th>May</th>\n",
       "      <th>June</th>\n",
       "      <th>July</th>\n",
       "      <th>August</th>\n",
       "      <th>September</th>\n",
       "      <th>October</th>\n",
       "      <th>November</th>\n",
       "      <th>December</th>\n",
       "    </tr>\n",
       "    <tr>\n",
       "      <th>year</th>\n",
       "      <th></th>\n",
       "      <th></th>\n",
       "      <th></th>\n",
       "      <th></th>\n",
       "      <th></th>\n",
       "      <th></th>\n",
       "      <th></th>\n",
       "      <th></th>\n",
       "      <th></th>\n",
       "      <th></th>\n",
       "      <th></th>\n",
       "      <th></th>\n",
       "    </tr>\n",
       "  </thead>\n",
       "  <tbody>\n",
       "    <tr>\n",
       "      <th>2018</th>\n",
       "      <td>358065</td>\n",
       "      <td>452423</td>\n",
       "      <td>492678</td>\n",
       "      <td>516777.0</td>\n",
       "      <td>528512</td>\n",
       "      <td>544550</td>\n",
       "      <td>624366</td>\n",
       "      <td>573766</td>\n",
       "      <td>555903</td>\n",
       "      <td>517889</td>\n",
       "      <td>407213</td>\n",
       "      <td>501211</td>\n",
       "    </tr>\n",
       "    <tr>\n",
       "      <th>2019</th>\n",
       "      <td>456218</td>\n",
       "      <td>437537</td>\n",
       "      <td>449637</td>\n",
       "      <td>476327.0</td>\n",
       "      <td>485634</td>\n",
       "      <td>549751</td>\n",
       "      <td>594279</td>\n",
       "      <td>616706</td>\n",
       "      <td>590565</td>\n",
       "      <td>568064</td>\n",
       "      <td>497925</td>\n",
       "      <td>552402</td>\n",
       "    </tr>\n",
       "  </tbody>\n",
       "</table>\n",
       "</div>"
      ],
      "text/plain": [
       "      January  February   March     April     May    June    July  August  \\\n",
       "year                                                                        \n",
       "2018   358065    452423  492678  516777.0  528512  544550  624366  573766   \n",
       "2019   456218    437537  449637  476327.0  485634  549751  594279  616706   \n",
       "\n",
       "      September  October  November  December  \n",
       "year                                          \n",
       "2018     555903   517889    407213    501211  \n",
       "2019     590565   568064    497925    552402  "
      ]
     },
     "execution_count": 4,
     "metadata": {},
     "output_type": "execute_result"
    }
   ],
   "source": [
    "kolom_bulan = ['January', 'February', 'March', 'April',\n",
    "               'May', 'June', 'July', 'August',\n",
    "               'September', 'October', 'November', 'December']\n",
    "\n",
    "total_perbulan = data_balitourist.groupby('year')[kolom_bulan].sum()\n",
    "total_perbulan"
   ]
  },
  {
   "cell_type": "code",
   "execution_count": 5,
   "metadata": {},
   "outputs": [
    {
     "data": {
      "text/plain": [
       "year\n",
       "2018    6073353.0\n",
       "2019    6275045.0\n",
       "dtype: float64"
      ]
     },
     "execution_count": 5,
     "metadata": {},
     "output_type": "execute_result"
    }
   ],
   "source": [
    "total_turis = total_perbulan.sum(axis=1)\n",
    "total_turis"
   ]
  },
  {
   "cell_type": "markdown",
   "metadata": {},
   "source": [
    "Total turis yang datang ke Bali pada tahun 2018 sebanyak 6073353 orang dan pada tahun 2019 sebanyak 6275045 orang."
   ]
  },
  {
   "cell_type": "markdown",
   "metadata": {},
   "source": [
    "# Berapa rata-rata turis yang datang ke Bali pada tahun 2018 dan 2019?"
   ]
  },
  {
   "cell_type": "code",
   "execution_count": 6,
   "metadata": {},
   "outputs": [
    {
     "data": {
      "text/plain": [
       "year\n",
       "2018    506112.750000\n",
       "2019    522920.416667\n",
       "dtype: float64"
      ]
     },
     "execution_count": 6,
     "metadata": {},
     "output_type": "execute_result"
    }
   ],
   "source": [
    "mean_turis = total_perbulan.mean(axis=1)\n",
    "mean_turis"
   ]
  },
  {
   "cell_type": "markdown",
   "metadata": {},
   "source": [
    "Rata-rata turis yang datang ke Bali pada tahun 2018 adalah sekitar 506113 orang per bulan dan pada tahun 2019 sekitar 522920 orang per bulan."
   ]
  },
  {
   "cell_type": "markdown",
   "metadata": {},
   "source": [
    "# Pada bulan apakah di tahun 2018 dan 2019 di mana jumlah total turis paling banyak di antara bulan lainnya?"
   ]
  },
  {
   "cell_type": "code",
   "execution_count": 7,
   "metadata": {},
   "outputs": [
    {
     "data": {
      "text/plain": [
       "year\n",
       "2018      July\n",
       "2019    August\n",
       "dtype: object"
      ]
     },
     "execution_count": 7,
     "metadata": {},
     "output_type": "execute_result"
    }
   ],
   "source": [
    "total_perbulan_max = total_perbulan.idxmax(axis=1)\n",
    "total_perbulan_max"
   ]
  },
  {
   "cell_type": "markdown",
   "metadata": {},
   "source": [
    "Jumlah total turis paling banyak di tahun 2018 ada di bulan Juli dan tahun 2019 di bulan Agustus."
   ]
  },
  {
   "cell_type": "markdown",
   "metadata": {},
   "source": [
    "# Pada bulan apakah di tahun 2018 dan 2019 di mana jumlah total turis paling sedikit di antara bulan lainnya?"
   ]
  },
  {
   "cell_type": "code",
   "execution_count": 8,
   "metadata": {},
   "outputs": [
    {
     "data": {
      "text/plain": [
       "year\n",
       "2018     January\n",
       "2019    February\n",
       "dtype: object"
      ]
     },
     "execution_count": 8,
     "metadata": {},
     "output_type": "execute_result"
    }
   ],
   "source": [
    "total_perbulan_min = total_perbulan.idxmin(axis=1)\n",
    "total_perbulan_min"
   ]
  },
  {
   "cell_type": "markdown",
   "metadata": {},
   "source": [
    "Jumlah total turis paling sedikit di tahun 2018 ada di bulan Januari dan tahun 2019 di bulan Februari."
   ]
  },
  {
   "cell_type": "markdown",
   "metadata": {},
   "source": [
    "# Area manakah yang memiliki jumlah turis yang datang ke Bali terbanyak pada tahun 2018 dan 2019?"
   ]
  },
  {
   "cell_type": "code",
   "execution_count": 9,
   "metadata": {},
   "outputs": [
    {
     "data": {
      "text/plain": [
       "year  area               \n",
       "2018  AFRICA                   54491.0\n",
       "      AMERICA                 367639.0\n",
       "      ASEAN                   514324.0\n",
       "      ASIA PACIFIC           3653078.0\n",
       "      EUROPE                 1392795.0\n",
       "      MIDDLE EAST              60577.0\n",
       "      OTHER NATIONALITIES      30449.0\n",
       "2019  AFRICA                   66474.0\n",
       "      AMERICA                 415262.0\n",
       "      ASEAN                   579627.0\n",
       "      ASIA PACIFIC           3614482.0\n",
       "      EUROPE                 1485287.0\n",
       "      MIDDLE EAST              75659.0\n",
       "      OTHER NATIONALITIES      38254.0\n",
       "dtype: float64"
      ]
     },
     "execution_count": 9,
     "metadata": {},
     "output_type": "execute_result"
    }
   ],
   "source": [
    "total_perarea = data_balitourist.groupby(['year', 'area'])[kolom_bulan].sum().sum(axis=1)\n",
    "total_perarea"
   ]
  },
  {
   "cell_type": "code",
   "execution_count": 10,
   "metadata": {},
   "outputs": [
    {
     "data": {
      "text/plain": [
       "year\n",
       "2018    (2018, ASIA PACIFIC )\n",
       "2019    (2019, ASIA PACIFIC )\n",
       "dtype: object"
      ]
     },
     "execution_count": 10,
     "metadata": {},
     "output_type": "execute_result"
    }
   ],
   "source": [
    "area_total = total_perarea.groupby('year').idxmax()\n",
    "area_total"
   ]
  },
  {
   "cell_type": "markdown",
   "metadata": {},
   "source": [
    "Asia Pasifik menjadi area yang memiliki jumlah turis yang datang ke Bali terbanyak pada tahun 2018 dan 2019."
   ]
  },
  {
   "cell_type": "markdown",
   "metadata": {},
   "source": [
    "# Rangkuman hasil"
   ]
  },
  {
   "cell_type": "code",
   "execution_count": 11,
   "metadata": {},
   "outputs": [
    {
     "data": {
      "text/html": [
       "<div>\n",
       "<style scoped>\n",
       "    .dataframe tbody tr th:only-of-type {\n",
       "        vertical-align: middle;\n",
       "    }\n",
       "\n",
       "    .dataframe tbody tr th {\n",
       "        vertical-align: top;\n",
       "    }\n",
       "\n",
       "    .dataframe thead th {\n",
       "        text-align: right;\n",
       "    }\n",
       "</style>\n",
       "<table border=\"1\" class=\"dataframe\">\n",
       "  <thead>\n",
       "    <tr style=\"text-align: right;\">\n",
       "      <th></th>\n",
       "      <th>January</th>\n",
       "      <th>February</th>\n",
       "      <th>March</th>\n",
       "      <th>April</th>\n",
       "      <th>May</th>\n",
       "      <th>June</th>\n",
       "      <th>July</th>\n",
       "      <th>August</th>\n",
       "      <th>September</th>\n",
       "      <th>October</th>\n",
       "      <th>November</th>\n",
       "      <th>December</th>\n",
       "      <th>0</th>\n",
       "      <th>1</th>\n",
       "      <th>2</th>\n",
       "      <th>3</th>\n",
       "    </tr>\n",
       "    <tr>\n",
       "      <th>year</th>\n",
       "      <th></th>\n",
       "      <th></th>\n",
       "      <th></th>\n",
       "      <th></th>\n",
       "      <th></th>\n",
       "      <th></th>\n",
       "      <th></th>\n",
       "      <th></th>\n",
       "      <th></th>\n",
       "      <th></th>\n",
       "      <th></th>\n",
       "      <th></th>\n",
       "      <th></th>\n",
       "      <th></th>\n",
       "      <th></th>\n",
       "      <th></th>\n",
       "    </tr>\n",
       "  </thead>\n",
       "  <tbody>\n",
       "    <tr>\n",
       "      <th>2018</th>\n",
       "      <td>358065</td>\n",
       "      <td>452423</td>\n",
       "      <td>492678</td>\n",
       "      <td>516777.0</td>\n",
       "      <td>528512</td>\n",
       "      <td>544550</td>\n",
       "      <td>624366</td>\n",
       "      <td>573766</td>\n",
       "      <td>555903</td>\n",
       "      <td>517889</td>\n",
       "      <td>407213</td>\n",
       "      <td>501211</td>\n",
       "      <td>July</td>\n",
       "      <td>January</td>\n",
       "      <td>6073353.0</td>\n",
       "      <td>506112.750000</td>\n",
       "    </tr>\n",
       "    <tr>\n",
       "      <th>2019</th>\n",
       "      <td>456218</td>\n",
       "      <td>437537</td>\n",
       "      <td>449637</td>\n",
       "      <td>476327.0</td>\n",
       "      <td>485634</td>\n",
       "      <td>549751</td>\n",
       "      <td>594279</td>\n",
       "      <td>616706</td>\n",
       "      <td>590565</td>\n",
       "      <td>568064</td>\n",
       "      <td>497925</td>\n",
       "      <td>552402</td>\n",
       "      <td>August</td>\n",
       "      <td>February</td>\n",
       "      <td>6275045.0</td>\n",
       "      <td>522920.416667</td>\n",
       "    </tr>\n",
       "  </tbody>\n",
       "</table>\n",
       "</div>"
      ],
      "text/plain": [
       "      January  February   March     April     May    June    July  August  \\\n",
       "year                                                                        \n",
       "2018   358065    452423  492678  516777.0  528512  544550  624366  573766   \n",
       "2019   456218    437537  449637  476327.0  485634  549751  594279  616706   \n",
       "\n",
       "      September  October  November  December       0         1          2  \\\n",
       "year                                                                        \n",
       "2018     555903   517889    407213    501211    July   January  6073353.0   \n",
       "2019     590565   568064    497925    552402  August  February  6275045.0   \n",
       "\n",
       "                  3  \n",
       "year                 \n",
       "2018  506112.750000  \n",
       "2019  522920.416667  "
      ]
     },
     "execution_count": 11,
     "metadata": {},
     "output_type": "execute_result"
    }
   ],
   "source": [
    "rangkuman = pd.concat([total_perbulan, total_perbulan_max, total_perbulan_min, total_turis, mean_turis], axis=1)\n",
    "rangkuman"
   ]
  },
  {
   "cell_type": "code",
   "execution_count": 12,
   "metadata": {},
   "outputs": [
    {
     "name": "stdout",
     "output_type": "stream",
     "text": [
      "Index([  'January',  'February',     'March',     'April',       'May',\n",
      "            'June',      'July',    'August', 'September',   'October',\n",
      "        'November',  'December',           0,           1,           2,\n",
      "                 3],\n",
      "      dtype='object')\n"
     ]
    }
   ],
   "source": [
    "#cek nama kolom\n",
    "print(rangkuman.columns)"
   ]
  },
  {
   "cell_type": "code",
   "execution_count": 13,
   "metadata": {},
   "outputs": [
    {
     "data": {
      "text/html": [
       "<div>\n",
       "<style scoped>\n",
       "    .dataframe tbody tr th:only-of-type {\n",
       "        vertical-align: middle;\n",
       "    }\n",
       "\n",
       "    .dataframe tbody tr th {\n",
       "        vertical-align: top;\n",
       "    }\n",
       "\n",
       "    .dataframe thead th {\n",
       "        text-align: right;\n",
       "    }\n",
       "</style>\n",
       "<table border=\"1\" class=\"dataframe\">\n",
       "  <thead>\n",
       "    <tr style=\"text-align: right;\">\n",
       "      <th></th>\n",
       "      <th>January</th>\n",
       "      <th>February</th>\n",
       "      <th>March</th>\n",
       "      <th>April</th>\n",
       "      <th>May</th>\n",
       "      <th>June</th>\n",
       "      <th>July</th>\n",
       "      <th>August</th>\n",
       "      <th>September</th>\n",
       "      <th>October</th>\n",
       "      <th>November</th>\n",
       "      <th>December</th>\n",
       "      <th>Max</th>\n",
       "      <th>Min</th>\n",
       "      <th>Total Kedatangan dalam Setahun</th>\n",
       "      <th>Rata-rata Kedatangan dalam Setahun</th>\n",
       "    </tr>\n",
       "    <tr>\n",
       "      <th>year</th>\n",
       "      <th></th>\n",
       "      <th></th>\n",
       "      <th></th>\n",
       "      <th></th>\n",
       "      <th></th>\n",
       "      <th></th>\n",
       "      <th></th>\n",
       "      <th></th>\n",
       "      <th></th>\n",
       "      <th></th>\n",
       "      <th></th>\n",
       "      <th></th>\n",
       "      <th></th>\n",
       "      <th></th>\n",
       "      <th></th>\n",
       "      <th></th>\n",
       "    </tr>\n",
       "  </thead>\n",
       "  <tbody>\n",
       "    <tr>\n",
       "      <th>2018</th>\n",
       "      <td>358065</td>\n",
       "      <td>452423</td>\n",
       "      <td>492678</td>\n",
       "      <td>516777.0</td>\n",
       "      <td>528512</td>\n",
       "      <td>544550</td>\n",
       "      <td>624366</td>\n",
       "      <td>573766</td>\n",
       "      <td>555903</td>\n",
       "      <td>517889</td>\n",
       "      <td>407213</td>\n",
       "      <td>501211</td>\n",
       "      <td>July</td>\n",
       "      <td>January</td>\n",
       "      <td>6073353.0</td>\n",
       "      <td>506112.750000</td>\n",
       "    </tr>\n",
       "    <tr>\n",
       "      <th>2019</th>\n",
       "      <td>456218</td>\n",
       "      <td>437537</td>\n",
       "      <td>449637</td>\n",
       "      <td>476327.0</td>\n",
       "      <td>485634</td>\n",
       "      <td>549751</td>\n",
       "      <td>594279</td>\n",
       "      <td>616706</td>\n",
       "      <td>590565</td>\n",
       "      <td>568064</td>\n",
       "      <td>497925</td>\n",
       "      <td>552402</td>\n",
       "      <td>August</td>\n",
       "      <td>February</td>\n",
       "      <td>6275045.0</td>\n",
       "      <td>522920.416667</td>\n",
       "    </tr>\n",
       "  </tbody>\n",
       "</table>\n",
       "</div>"
      ],
      "text/plain": [
       "      January  February   March     April     May    June    July  August  \\\n",
       "year                                                                        \n",
       "2018   358065    452423  492678  516777.0  528512  544550  624366  573766   \n",
       "2019   456218    437537  449637  476327.0  485634  549751  594279  616706   \n",
       "\n",
       "      September  October  November  December     Max       Min  \\\n",
       "year                                                             \n",
       "2018     555903   517889    407213    501211    July   January   \n",
       "2019     590565   568064    497925    552402  August  February   \n",
       "\n",
       "      Total Kedatangan dalam Setahun  Rata-rata Kedatangan dalam Setahun  \n",
       "year                                                                      \n",
       "2018                       6073353.0                       506112.750000  \n",
       "2019                       6275045.0                       522920.416667  "
      ]
     },
     "execution_count": 13,
     "metadata": {},
     "output_type": "execute_result"
    }
   ],
   "source": [
    "#rapikan\n",
    "\n",
    "rangkuman_final = rangkuman.rename(columns={0 : 'Max', 1 : 'Min', 2 : 'Total Kedatangan dalam Setahun', 3 : 'Rata-rata Kedatangan dalam Setahun'}) \n",
    "rangkuman_final"
   ]
  }
 ],
 "metadata": {
  "kernelspec": {
   "display_name": "base",
   "language": "python",
   "name": "python3"
  },
  "language_info": {
   "codemirror_mode": {
    "name": "ipython",
    "version": 3
   },
   "file_extension": ".py",
   "mimetype": "text/x-python",
   "name": "python",
   "nbconvert_exporter": "python",
   "pygments_lexer": "ipython3",
   "version": "3.11.5"
  }
 },
 "nbformat": 4,
 "nbformat_minor": 2
}
